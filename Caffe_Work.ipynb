{
  "nbformat": 4,
  "nbformat_minor": 0,
  "metadata": {
    "colab": {
      "name": "Caffe-Work.ipynb",
      "provenance": [],
      "collapsed_sections": [],
      "toc_visible": true,
      "include_colab_link": true
    },
    "kernelspec": {
      "name": "python2",
      "display_name": "Python 2"
    }
  },
  "cells": [
    {
      "cell_type": "markdown",
      "metadata": {
        "id": "view-in-github",
        "colab_type": "text"
      },
      "source": [
        "<a href=\"https://colab.research.google.com/github/mhmdghazal/Install-Caffe-using-Colab-/blob/master/Caffe_Work.ipynb\" target=\"_parent\"><img src=\"https://colab.research.google.com/assets/colab-badge.svg\" alt=\"Open In Colab\"/></a>"
      ]
    },
    {
      "cell_type": "markdown",
      "metadata": {
        "id": "Py3e9Wp18Rnr",
        "colab_type": "text"
      },
      "source": [
        "# Build CAFFE CPU-ONLY IN COLAB"
      ]
    },
    {
      "cell_type": "markdown",
      "metadata": {
        "id": "XQvmCog47-v0",
        "colab_type": "text"
      },
      "source": [
        "(In case anything goes wrong)"
      ]
    },
    {
      "cell_type": "code",
      "metadata": {
        "id": "qgY6PLn_moHI",
        "colab_type": "code",
        "colab": {}
      },
      "source": [
        "#!kill -9 -1"
      ],
      "execution_count": 0,
      "outputs": []
    },
    {
      "cell_type": "code",
      "metadata": {
        "id": "wBaWVl3Nm4hJ",
        "colab_type": "code",
        "outputId": "e8e99c5e-a667-49dc-ea61-65f57540c703",
        "colab": {
          "base_uri": "https://localhost:8080/",
          "height": 34
        }
      },
      "source": [
        "!ls"
      ],
      "execution_count": 2,
      "outputs": [
        {
          "output_type": "stream",
          "text": [
            "sample_data\n"
          ],
          "name": "stdout"
        }
      ]
    },
    {
      "cell_type": "markdown",
      "metadata": {
        "id": "IVaxaW4t1D3R",
        "colab_type": "text"
      },
      "source": [
        "main commands needed before install caffe, it will take some time"
      ]
    },
    {
      "cell_type": "code",
      "metadata": {
        "colab_type": "code",
        "outputId": "cef29d2e-0786-4e6c-c30c-46748f9acafe",
        "id": "DSFvAQqG422z",
        "colab": {
          "base_uri": "https://localhost:8080/",
          "height": 67
        }
      },
      "source": [
        "print \"Install deps and gcc\"\n",
        "\n",
        "with open('/etc/apt/sources.list') as f:\n",
        "  txt = f.read()\n",
        "with open('/etc/apt/sources.list', 'w') as f:\n",
        "  f.write(txt.replace('# deb-src','deb-src'))\n",
        "  \n",
        "t=!apt update\n",
        "t=!apt upgrade\n",
        "t=!sudo apt-get install -y build-essential cmake git pkg-config libprotobuf-dev libleveldb-dev libsnappy-dev libhdf5-serial-dev protobuf-compiler libatlas-base-dev libgflags-dev libgoogle-glog-dev liblmdb-dev  python3-dev python-numpy python-scipy libopencv-dev liblapack-dev liblapack3 libopenblas-base libopenblas-dev \n",
        "t=!sudo apt-get install -y --no-install-recommends libboost-all-dev\n",
        "\n",
        "print \"Get boost\"\n",
        "\n",
        "t=!wget https://dl.bintray.com/boostorg/release/1.67.0/source/boost_1_67_0.tar.bz2\n",
        "t=!tar --bzip2 -xf boost_1_67_0.tar.bz2\n",
        "\n",
        "print \"Compile boost\"\n",
        "\n",
        "t=!cd boost_1_67_0 && ./bootstrap.sh --exec-prefix=/usr/local --with-libraries=system,filesystem,regex,thread,python \\\n",
        "--with-python-version=2.7 --with-python-root=/usr\n",
        "t=!cd boost_1_67_0 && ./b2 install\n",
        "t=!sudo apt-get install libgflags-dev\n",
        "t=!sudo apt-get install protobuf\n",
        "\n",
        "\n",
        "\n"
      ],
      "execution_count": 3,
      "outputs": [
        {
          "output_type": "stream",
          "text": [
            "Install deps and gcc\n",
            "Get boost\n",
            "Compile boost\n"
          ],
          "name": "stdout"
        }
      ]
    },
    {
      "cell_type": "markdown",
      "metadata": {
        "id": "fVD3W6h22P8A",
        "colab_type": "text"
      },
      "source": [
        "Install Caffe for CPU-ONLY "
      ]
    },
    {
      "cell_type": "code",
      "metadata": {
        "id": "S3DsNm6_4-Hi",
        "colab_type": "code",
        "outputId": "1bb7f7f3-ab23-4e07-9173-6ce042a0d076",
        "colab": {
          "base_uri": "https://localhost:8080/",
          "height": 255
        }
      },
      "source": [
        "print \"Clone Caffe and configure it\"\n",
        "\n",
        "t=!git clone https://github.com/weiliu89/caffe.git && cd caffe && git checkout ssd\n",
        "  \n",
        "with open('caffe/Makefile.config.example') as f:\n",
        "  config = f.read()\n",
        "comment = ['BLAS := open']\n",
        "uncomment = ['# CPU_ONLY := 1','# BLAS := atlas', \n",
        "             '# OPENCV_VERSION := 3', '# WITH_PYTHON_LAYER := 1'] #\n",
        "replace = [('INCLUDE_DIRS := $(PYTHON_INCLUDE) /usr/local/include',\n",
        "            'INCLUDE_DIRS := $(PYTHON_INCLUDE) /usr/local/include /usr/include/hdf5/serial /usr/local/lib/python2.7/dist-packages/numpy/core/include/'), \n",
        "           ('LIBRARY_DIRS := $(PYTHON_LIB) /usr/local/lib /usr/lib',\n",
        "            'LIBRARY_DIRS := $(PYTHON_LIB) /usr/local/lib /usr/lib /usr/lib/x86_64-linux-gnu/hdf5/serial')]\n",
        "for c in uncomment:\n",
        "  config = config.replace(c, c[2:])\n",
        "for c in comment:\n",
        "  config = config.replace(c, '# '+c)\n",
        "for c1,c2 in replace:\n",
        "  config = config.replace(c1, c2)\n",
        "with open('caffe/Makefile.config', 'w') as f:\n",
        "  f.write(config)\n",
        "  \n",
        "with open('caffe/Makefile') as f:\n",
        "  mfile = f.read()\n",
        "with open('caffe/Makefile', 'w') as f:\n",
        "  f.write(mfile.replace('-isystem','-I'))\n",
        "  \n",
        "print \"Make Caffe\"\n",
        "\n",
        "#t=!cd caffe && make -j8 && make pycaffe && make test -j8 && make distribute\n",
        "\n",
        "t=!cd caffe && make clean && make -j8 && make pycaffe && make distribute\n",
        "print '\\n'.join(t[-10:])\n",
        "\n",
        "t=!echo /usr/local/lib >> /etc/ld.so.conf && ldconfig\n",
        "t=!echo /content/caffe/distribute/lib >> /etc/ld.so.conf && ldconfig\n",
        "\n",
        "print \"DONE\""
      ],
      "execution_count": 4,
      "outputs": [
        {
          "output_type": "stream",
          "text": [
            "Clone Caffe and configure it\n",
            "Make Caffe\n",
            "cp .build_release/src/caffe/proto/caffe.pb.h distribute/include/caffe/proto\n",
            "# add tool and example binaries\n",
            "cp .build_release/tools/device_query.bin .build_release/tools/caffe.bin .build_release/tools/train_net.bin .build_release/tools/upgrade_net_proto_text.bin .build_release/tools/upgrade_solver_proto_text.bin .build_release/tools/test_net.bin .build_release/tools/upgrade_net_proto_binary.bin .build_release/tools/get_image_size.bin .build_release/tools/net_speed_benchmark.bin .build_release/tools/convert_imageset.bin .build_release/tools/extract_features.bin .build_release/tools/finetune_net.bin .build_release/tools/create_label_map.bin .build_release/tools/convert_annoset.bin .build_release/tools/compute_image_mean.bin distribute/bin\n",
            "cp .build_release/examples/cifar10/convert_cifar_data.bin .build_release/examples/ssd/ssd_detect.bin .build_release/examples/siamese/convert_mnist_siamese_data.bin .build_release/examples/mnist/convert_mnist_data.bin .build_release/examples/cpp_classification/classification.bin distribute/bin\n",
            "# add libraries\n",
            "cp .build_release/lib/libcaffe.a distribute/lib\n",
            "install -m 644 .build_release/lib/libcaffe.so.1.0.0-rc3 distribute/lib\n",
            "cd distribute/lib; rm -f libcaffe.so;   ln -s libcaffe.so.1.0.0-rc3 libcaffe.so\n",
            "# add python - it's not the standard way, indeed...\n",
            "cp -r python distribute/python\n",
            "DONE\n"
          ],
          "name": "stdout"
        }
      ]
    },
    {
      "cell_type": "markdown",
      "metadata": {
        "id": "sBs9DF8E2Fp7",
        "colab_type": "text"
      },
      "source": [
        "Import Caffe for test"
      ]
    },
    {
      "cell_type": "code",
      "metadata": {
        "colab_type": "code",
        "id": "zftY7m9N0q24",
        "colab": {}
      },
      "source": [
        "#test caffe\n",
        "import sys\n",
        "import os\n",
        "caffe_path = !cd /content/caffe/python\n",
        "sys.path.insert(0, '/content/caffe/python')  \n",
        "import caffe\n",
        "\n",
        "import cv2\n",
        "from matplotlib import pyplot as plt\n",
        "import numpy as np\n",
        "%matplotlib inline\n",
        "\n",
        "from caffe.proto.caffe_pb2 import SolverParameter\n",
        "import google.protobuf.text_format as txtf"
      ],
      "execution_count": 0,
      "outputs": []
    }
  ]
}